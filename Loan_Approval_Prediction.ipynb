{
 "cells": [
  {
   "cell_type": "markdown",
   "metadata": {},
   "source": [
    "# Sequence of steps to solve any classification Problem.\n",
    "#(Assumptions: Preprocessed .csv dataset)\n",
    "\n",
    "1) Define Problem Statement\n",
    "2) Prepare Data Dictionary \n",
    "3) Hypothesis d ion\n",
    "4) Exploratory Data Analysis (EDA)\n",
    "5) Model Development and Evaluation\n",
    "6) Conclusion"
   ]
  },
  {
   "cell_type": "markdown",
   "metadata": {},
   "source": [
    "# Step1: Define Problem Statment\n",
    "\n",
    "Dream Housing Finance company is the company that gives home loans to the customers, it will approve or reject the loans based upon some conditions, like credit_history, Applicant_Income and other features\n",
    "\n",
    "Our problem statement here is to automate loan approval process by predicting loan can be APPROVED or NOT APPROVED\n",
    "\n",
    "TARGET VARIABLE (DEPENDENT VARIABLE):\n",
    "\n",
    "Loan_status: YES -- APPROVED\n",
    "             NO -- NOT APPROVED\n"
   ]
  },
  {
   "cell_type": "markdown",
   "metadata": {},
   "source": [
    "# Step2: Prepare Data Dictionary\n",
    "\n",
    "Exploring the dataset by list down the columns and description of the columns, i.e., make a data dictionary from the dataset.\n",
    "\n",
    "Prepare buckets based upon the types of variables:\n",
    "\n",
    "NUMERICAL-CONTINUOUS\n",
    "NUMERICAL- DISCRETE\n",
    "CATEGORICAL-NOMINAL\n",
    "CATEGORICAL-ORDINAL\n",
    "\n",
    "NUMERICAL- DISCRETE\n",
    "----------------------------------------\n",
    "Loan_ID\n",
    "Loan_Amount_Term\n",
    "Credit_History\n",
    "\n",
    "\n",
    "CATEGORICAL-NOMINAL\n",
    "---------------------------------------\n",
    "Gender\n",
    "Married\n",
    "Education\n",
    "Self_Employed\n",
    "Loan_Status (Target Variable or Dependent Variable)\n",
    "\n",
    "\n",
    "CATEGORICAL-ORDINAL\n",
    "--------------------------------------\n",
    "Dependent\n",
    "Property_Area\n",
    "\n",
    "\n",
    "NUMERICAL - CONTINUOUS\n",
    "------------------------------------------\n",
    "ApplicantIncome\n",
    "CoapplicantIncome\n",
    "LoanAmount"
   ]
  },
  {
   "cell_type": "markdown",
   "metadata": {},
   "source": [
    "# Step3: Hypothesis Generation\n",
    "\n",
    "It is a process to identify the features (Variables) which have the impact on the outcome (Target Variable) from the dataset.\n",
    "Ex: Applicant_Income, Loan_Term,Credit_History these features may have huge impact on the loan approval."
   ]
  },
  {
   "cell_type": "markdown",
   "metadata": {},
   "source": [
    "# Step4: Exploratory Data Analysis (EDA)\n",
    "\n",
    "To Explore the entire dataset we need to follow a standard approach to gain more insights from the data.\n",
    "These analysis can be done through various DATA Visualization techniques:\n",
    "4.1 UNIVARIATE ANALYSIS\n",
    "4.2 BI-VARIATE ANALYSIS \n",
    "4.3 Treating Missing Values and Outliers\n",
    "4.4 Feature Engineering (Variable Transformation or Variable Creation)"
   ]
  },
  {
   "cell_type": "markdown",
   "metadata": {},
   "source": [
    "For EDA, we will be using python NUMPY PANDAS and few more libraries, need to import the libraries and play around with the data to draw some insights."
   ]
  },
  {
   "cell_type": "code",
   "execution_count": 4,
   "metadata": {},
   "outputs": [],
   "source": [
    "# IMPORTING ALL NECESSARY LIBRARIES\n",
    "import pandas as pd\n",
    "import numpy as np\n",
    "import warnings\n",
    "import matplotlib.pyplot as plt\n",
    "import seaborn as sns\n",
    "warnings.filterwarnings(\"ignore\")\n",
    "%matplotlib inline"
   ]
  },
  {
   "cell_type": "code",
   "execution_count": 2,
   "metadata": {},
   "outputs": [],
   "source": [
    "# LOADING TRAINING & TEST DATA FROM CSV FILES\n",
    "train=pd.read_csv(\"C:\\\\Users\\\\santhosh_aluvala\\\\PycharmProjects\\\\First_Learning_Proj\\\\loan-approval-prediction\\\\train_u6lujuX_CVtuZ9i.csv\")\n",
    "test=pd.read_csv(\"C:\\\\Users\\\\santhosh_aluvala\\\\PycharmProjects\\\\First_Learning_Proj\\\\loan-approval-prediction\\\\test_Y3wMUE5_7gLdaTN.csv\")"
   ]
  },
  {
   "cell_type": "code",
   "execution_count": 3,
   "metadata": {},
   "outputs": [],
   "source": [
    "#SAVING ORGINAL COPY FOR FUTURE USE\n",
    "train_original=train.copy()\n",
    "test_original=test.copy()"
   ]
  },
  {
   "cell_type": "code",
   "execution_count": 7,
   "metadata": {},
   "outputs": [
    {
     "data": {
      "text/plain": [
       "Index(['Loan_ID', 'Gender', 'Married', 'Dependents', 'Education',\n",
       "       'Self_Employed', 'ApplicantIncome', 'CoapplicantIncome', 'LoanAmount',\n",
       "       'Loan_Amount_Term', 'Credit_History', 'Property_Area', 'Loan_Status'],\n",
       "      dtype='object')"
      ]
     },
     "execution_count": 7,
     "metadata": {},
     "output_type": "execute_result"
    }
   ],
   "source": [
    "train.columns"
   ]
  },
  {
   "cell_type": "markdown",
   "metadata": {},
   "source": [
    "4.1 UNIVARIATE ANALYSIS\n",
    "--------------------------------------\n",
    "\n",
    "Identify the feature types and analyze each feature by using data visualization techniques.\n",
    "\n",
    "For Categorical Varibles we use BAR PLOTS (or) PIE CHARTS\n",
    "\n",
    "For Numerical Variables we use HISTO GRAMS (or) Box plots (or) DistPlots"
   ]
  },
  {
   "cell_type": "code",
   "execution_count": 22,
   "metadata": {},
   "outputs": [
    {
     "data": {
      "text/plain": [
       "object     8\n",
       "float64    4\n",
       "int64      1\n",
       "dtype: int64"
      ]
     },
     "execution_count": 22,
     "metadata": {},
     "output_type": "execute_result"
    }
   ],
   "source": [
    "#Identify the data types\n",
    "train.dtypes.value_counts()"
   ]
  },
  {
   "cell_type": "code",
   "execution_count": 21,
   "metadata": {},
   "outputs": [
    {
     "data": {
      "text/plain": [
       "Index(['Loan_ID', 'Gender', 'Married', 'Dependents', 'Education',\n",
       "       'Self_Employed', 'Property_Area', 'Loan_Status'],\n",
       "      dtype='object')"
      ]
     },
     "execution_count": 21,
     "metadata": {},
     "output_type": "execute_result"
    }
   ],
   "source": [
    "# Identify Categorical Varibles\n",
    "train.select_dtypes(include=['object']).columns"
   ]
  },
  {
   "cell_type": "code",
   "execution_count": 23,
   "metadata": {},
   "outputs": [
    {
     "data": {
      "text/plain": [
       "Index(['ApplicantIncome', 'CoapplicantIncome', 'LoanAmount',\n",
       "       'Loan_Amount_Term', 'Credit_History'],\n",
       "      dtype='object')"
      ]
     },
     "execution_count": 23,
     "metadata": {},
     "output_type": "execute_result"
    }
   ],
   "source": [
    "# Identify Numerical Varibles\n",
    "train.select_dtypes(include=['int64','float']).columns"
   ]
  },
  {
   "cell_type": "code",
   "execution_count": 45,
   "metadata": {},
   "outputs": [
    {
     "data": {
      "image/png": "[encoded data removed]",
      "text/plain": [
       "<Figure size 432x288 with 1 Axes>"
      ]
     },
     "metadata": {
      "needs_background": "light"
     },
     "output_type": "display_data"
    },
    {
     "data": {
      "text/plain": [
       "<matplotlib.axes._subplots.AxesSubplot at 0x25e04fede48>"
      ]
     },
     "execution_count": 45,
     "metadata": {},
     "output_type": "execute_result"
    },
    {
     "data": {
      "image/png": "[encoded data removed]",
      "text/plain": [
       "<Figure size 432x288 with 1 Axes>"
      ]
     },
     "metadata": {
      "needs_background": "light"
     },
     "output_type": "display_data"
    }
   ],
   "source": [
    "# Bar plots for categorical Variables.\n",
    "train['Gender'].value_counts(normalize=True).plot.bar(title='Gender',grid=True)\n",
    "plt.show()\n",
    "train['Married'].value_counts(normalize=True).plot.bar(title='Married',grid=True)"
   ]
  },
  {
   "cell_type": "code",
   "execution_count": 37,
   "metadata": {},
   "outputs": [
    {
     "data": {
      "image/png": "[encoded data removed]",
      "text/plain": [
       "<Figure size 432x288 with 1 Axes>"
      ]
     },
     "metadata": {
      "needs_background": "light"
     },
     "output_type": "display_data"
    },
    {
     "data": {
      "text/plain": [
       "<matplotlib.axes._subplots.AxesSubplot at 0x25e042c7f60>"
      ]
     },
     "execution_count": 37,
     "metadata": {},
     "output_type": "execute_result"
    },
    {
     "data": {
      "image/png": "[encoded data removed]",
      "text/plain": [
       "<Figure size 432x288 with 1 Axes>"
      ]
     },
     "metadata": {
      "needs_background": "light"
     },
     "output_type": "display_data"
    }
   ],
   "source": [
    "# Plot Histograms for Numeircal Variables\n",
    "train['ApplicantIncome'].plot.hist(bins=20,grid=True)\n",
    "plt.show()\n",
    "train['LoanAmount'].plot.hist(bins=20,grid=True)"
   ]
  },
  {
   "cell_type": "code",
   "execution_count": 44,
   "metadata": {},
   "outputs": [
    {
     "data": {
      "text/plain": [
       "<matplotlib.axes._subplots.AxesSubplot at 0x25e04e87eb8>"
      ]
     },
     "execution_count": 44,
     "metadata": {},
     "output_type": "execute_result"
    },
    {
     "data": {
      "image/png": "[encoded data removed]",
      "text/plain": [
       "<Figure size 432x288 with 1 Axes>"
      ]
     },
     "metadata": {
      "needs_background": "light"
     },
     "output_type": "display_data"
    }
   ],
   "source": [
    "sns.distplot(train['ApplicantIncome'])"
   ]
  },
  {
   "cell_type": "markdown",
   "metadata": {},
   "source": [
    "# 4.2 BI-VARIATE ANALYSIS\n",
    "---------------------------------------------\n",
    "\n",
    "Analyze each feature against target variable to get some insights."
   ]
  },
  {
   "cell_type": "code",
   "execution_count": 40,
   "metadata": {},
   "outputs": [],
   "source": [
    "# function used to plot bar charts using data frame against target variable (Loan_Status)\n",
    "def bar_chart(feature):\n",
    "    ln_approved = train[train['Loan_Status']=='Y'][feature].value_counts()\n",
    "    ln_not_approved = train[train['Loan_Status']=='N'][feature].value_counts()\n",
    "    df = pd.DataFrame([ln_approved,ln_not_approved])\n",
    "    df.index = ['ln_approved','ln_not_approved']\n",
    "    df.plot(kind='bar',stacked=True, figsize=(10,5),grid=True)"
   ]
  },
  {
   "cell_type": "code",
   "execution_count": 46,
   "metadata": {},
   "outputs": [
    {
     "data": {
      "image/png": "[encoded data removed]",
      "text/plain": [
       "<Figure size 720x360 with 1 Axes>"
      ]
     },
     "metadata": {
      "needs_background": "light"
     },
     "output_type": "display_data"
    }
   ],
   "source": [
    "bar_chart('Education')"
   ]
  },
  {
   "cell_type": "markdown",
   "metadata": {},
   "source": [
    "# 4.3 Treating Missing Values and Outliers"
   ]
  },
  {
   "cell_type": "code",
   "execution_count": 48,
   "metadata": {},
   "outputs": [
    {
     "data": {
      "text/plain": [
       "Loan_ID               0\n",
       "Gender               13\n",
       "Married               3\n",
       "Dependents           15\n",
       "Education             0\n",
       "Self_Employed        32\n",
       "ApplicantIncome       0\n",
       "CoapplicantIncome     0\n",
       "LoanAmount           22\n",
       "Loan_Amount_Term     14\n",
       "Credit_History       50\n",
       "Property_Area         0\n",
       "Loan_Status           0\n",
       "dtype: int64"
      ]
     },
     "execution_count": 48,
     "metadata": {},
     "output_type": "execute_result"
    }
   ],
   "source": [
    "# Check for missing values\n",
    "train.isnull().sum()"
   ]
  },
  {
   "cell_type": "code",
   "execution_count": 83,
   "metadata": {},
   "outputs": [
    {
     "data": {
      "text/plain": [
       "Loan_ID               0\n",
       "Gender                0\n",
       "Married               0\n",
       "Dependents           10\n",
       "Education             0\n",
       "Self_Employed        23\n",
       "ApplicantIncome       0\n",
       "CoapplicantIncome     0\n",
       "LoanAmount            5\n",
       "Loan_Amount_Term      6\n",
       "Credit_History       29\n",
       "Property_Area         0\n",
       "dtype: int64"
      ]
     },
     "execution_count": 83,
     "metadata": {},
     "output_type": "execute_result"
    }
   ],
   "source": [
    "# Gender can be filled with male as most of the population in the dataset are male\n",
    "train['Gender'].fillna('Male',inplace=True)\n",
    "test['Gender'].fillna('Male',inplace=True)\n",
    "\n",
    "test.isnull().sum()"
   ]
  },
  {
   "cell_type": "code",
   "execution_count": 86,
   "metadata": {},
   "outputs": [
    {
     "data": {
      "text/plain": [
       "Loan_ID               0\n",
       "Gender                0\n",
       "Married               0\n",
       "Dependents            0\n",
       "Education             0\n",
       "Self_Employed         0\n",
       "ApplicantIncome       0\n",
       "CoapplicantIncome     0\n",
       "LoanAmount            5\n",
       "Loan_Amount_Term      6\n",
       "Credit_History       29\n",
       "Property_Area         0\n",
       "dtype: int64"
      ]
     },
     "execution_count": 86,
     "metadata": {},
     "output_type": "execute_result"
    }
   ],
   "source": [
    "#Most of the dependents are 0, we are filling missing values to 0\n",
    "train['Dependents'].fillna(0,inplace=True)\n",
    "test['Dependents'].fillna(0,inplace=True)\n",
    "test.isnull().sum()\n",
    "#train['Dependents'].value_counts()"
   ]
  },
  {
   "cell_type": "code",
   "execution_count": 85,
   "metadata": {},
   "outputs": [],
   "source": [
    "# Filling missing values of Self_Employed to 'NO'\n",
    "train['Self_Employed'].value_counts()\n",
    "train['Self_Employed'].fillna('No',inplace=True)\n",
    "test['Self_Employed'].fillna('No',inplace=True)"
   ]
  },
  {
   "cell_type": "code",
   "execution_count": 68,
   "metadata": {},
   "outputs": [],
   "source": [
    "# Filling missing values of Married to 'YES'\n",
    "train['Married'].value_counts()\n",
    "train['Married'].fillna('Yes',inplace=True)"
   ]
  },
  {
   "cell_type": "code",
   "execution_count": 87,
   "metadata": {},
   "outputs": [],
   "source": [
    "# Filling missing values for LoanAmount with the mode value of the loan Amount feature\n",
    "train['LoanAmount'].fillna(train['LoanAmount'].mode()[0],inplace=True)\n",
    "test['LoanAmount'].fillna(train['LoanAmount'].mode()[0],inplace=True)"
   ]
  },
  {
   "cell_type": "code",
   "execution_count": 88,
   "metadata": {},
   "outputs": [],
   "source": [
    "# Filling missing values for LoanAmount term with the mode value of the loan Amount term feature\n",
    "train['Loan_Amount_Term'].fillna(train['Loan_Amount_Term'].mode()[0],inplace=True)\n",
    "test['Loan_Amount_Term'].fillna(train['Loan_Amount_Term'].mode()[0],inplace=True)"
   ]
  },
  {
   "cell_type": "code",
   "execution_count": 89,
   "metadata": {},
   "outputs": [],
   "source": [
    "# Filling missing values for Credit_History with the mode value of the Credit_History feature\n",
    "train['Credit_History'].fillna(train['Credit_History'].mode()[0],inplace=True)\n",
    "test['Credit_History'].fillna(train['Credit_History'].mode()[0],inplace=True)"
   ]
  },
  {
   "cell_type": "code",
   "execution_count": 90,
   "metadata": {},
   "outputs": [
    {
     "data": {
      "text/plain": [
       "Loan_ID              0\n",
       "Gender               0\n",
       "Married              0\n",
       "Dependents           0\n",
       "Education            0\n",
       "Self_Employed        0\n",
       "ApplicantIncome      0\n",
       "CoapplicantIncome    0\n",
       "LoanAmount           0\n",
       "Loan_Amount_Term     0\n",
       "Credit_History       0\n",
       "Property_Area        0\n",
       "dtype: int64"
      ]
     },
     "execution_count": 90,
     "metadata": {},
     "output_type": "execute_result"
    }
   ],
   "source": [
    "test.isnull().sum()"
   ]
  },
  {
   "cell_type": "code",
   "execution_count": 1,
   "metadata": {},
   "outputs": [],
   "source": [
    "# Treating missing values can be done by creating a function.kind of automating the removal of missing values in any dataset.\n",
    "# below is the function to any file\n",
    "def read_file(fname):\n",
    "    return pd.read_csv(\"C:\\\\Users\\\\santhosh_aluvala\\\\PycharmProjects\\\\First_Learning_Proj\\\\loan-approval-prediction\\\\\"+fname+\".csv\")"
   ]
  },
  {
   "cell_type": "code",
   "execution_count": 2,
   "metadata": {},
   "outputs": [],
   "source": [
    "# This is the function to drop features by dynamically passing missing ratio.\n",
    "missing_val_list=[]\n",
    "def missing_values(p_dataset,missing_ratio):\n",
    "    for i in range(len(p_dataset.columns)):\n",
    "        if(p_dataset[p_dataset.columns[i]].isnull().sum()/len(p_dataset)>missing_ratio):\n",
    "            missing_val_list.append(p_dataset.columns[i])\n",
    "    return p_dataset.drop(missing_val_list,inplace=True,axis=1)"
   ]
  },
  {
   "cell_type": "code",
   "execution_count": 5,
   "metadata": {},
   "outputs": [],
   "source": [
    "train2=read_file('train_u6lujuX_CVtuZ9i')\n",
    "test3=read_file('test_Y3wMUE5_7gLdaTN')"
   ]
  },
  {
   "cell_type": "code",
   "execution_count": 7,
   "metadata": {},
   "outputs": [
    {
     "data": {
      "text/plain": [
       "(614, 13)"
      ]
     },
     "execution_count": 7,
     "metadata": {},
     "output_type": "execute_result"
    }
   ],
   "source": [
    "train2.shape"
   ]
  },
  {
   "cell_type": "code",
   "execution_count": 8,
   "metadata": {},
   "outputs": [],
   "source": [
    "# Calling missing_values function by specifying the missing_ratio.\n",
    "missing_values(test3,0.02)"
   ]
  },
  {
   "cell_type": "code",
   "execution_count": 9,
   "metadata": {},
   "outputs": [],
   "source": [
    "missing_values(train2,0.02)"
   ]
  },
  {
   "cell_type": "code",
   "execution_count": 10,
   "metadata": {},
   "outputs": [
    {
     "data": {
      "text/plain": [
       "(614, 7)"
      ]
     },
     "execution_count": 10,
     "metadata": {},
     "output_type": "execute_result"
    }
   ],
   "source": [
    "# train2.shape after dropping the features with missing values.\n",
    "train2.shape"
   ]
  },
  {
   "cell_type": "code",
   "execution_count": null,
   "metadata": {},
   "outputs": [],
   "source": []
  },
  {
   "cell_type": "raw",
   "metadata": {},
   "source": []
  },
  {
   "cell_type": "code",
   "execution_count": null,
   "metadata": {},
   "outputs": [],
   "source": []
  },
  {
   "cell_type": "code",
   "execution_count": null,
   "metadata": {},
   "outputs": [],
   "source": []
  },
  {
   "cell_type": "raw",
   "metadata": {},
   "source": []
  },
  {
   "cell_type": "code",
   "execution_count": null,
   "metadata": {},
   "outputs": [],
   "source": []
  },
  {
   "cell_type": "code",
   "execution_count": null,
   "metadata": {},
   "outputs": [],
   "source": []
  },
  {
   "cell_type": "code",
   "execution_count": 30,
   "metadata": {},
   "outputs": [],
   "source": [
    "# making bins for Coapplicant income variable\n",
    "bins = [0,1000,3000,42000]\n",
    "group = ['Low','Average','High']\n",
    "train['Coapplicant_Income_bin'] = pd.cut(df['CoapplicantIncome'],bins,labels=group)"
   ]
  },
  {
   "cell_type": "code",
   "execution_count": 16,
   "metadata": {},
   "outputs": [],
   "source": [
    "df=train.dropna()"
   ]
  },
  {
   "cell_type": "code",
   "execution_count": null,
   "metadata": {},
   "outputs": [],
   "source": []
  },
  {
   "cell_type": "code",
   "execution_count": null,
   "metadata": {},
   "outputs": [],
   "source": []
  },
  {
   "cell_type": "code",
   "execution_count": null,
   "metadata": {},
   "outputs": [],
   "source": []
  },
  {
   "cell_type": "code",
   "execution_count": null,
   "metadata": {},
   "outputs": [],
   "source": []
  },
  {
   "cell_type": "code",
   "execution_count": null,
   "metadata": {},
   "outputs": [],
   "source": []
  },
  {
   "cell_type": "code",
   "execution_count": null,
   "metadata": {},
   "outputs": [],
   "source": []
  },
  {
   "cell_type": "code",
   "execution_count": null,
   "metadata": {},
   "outputs": [],
   "source": []
  },
  {
   "cell_type": "code",
   "execution_count": null,
   "metadata": {},
   "outputs": [],
   "source": []
  }
 ],
 "metadata": {
  "kernelspec": {
   "display_name": "Python 3",
   "language": "python",
   "name": "python3"
  },
  "language_info": {
   "codemirror_mode": {
    "name": "ipython",
    "version": 3
   },
   "file_extension": ".py",
   "mimetype": "text/x-python",
   "name": "python",
   "nbconvert_exporter": "python",
   "pygments_lexer": "ipython3",
   "version": "3.7.3"
  }
 },
 "nbformat": 4,
 "nbformat_minor": 2
}
